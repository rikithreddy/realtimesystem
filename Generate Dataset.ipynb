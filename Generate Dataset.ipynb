{
 "cells": [
  {
   "cell_type": "code",
   "execution_count": 13,
   "metadata": {},
   "outputs": [
    {
     "data": {
      "text/plain": [
       "array([0.45172414, 0.25118483, 0.35340314, 0.62411348, 0.43457944,\n",
       "       0.53892216, 0.37593985, 0.59447005, 0.75      , 0.8057554 ,\n",
       "       0.38888889, 0.31410256, 0.52112676, 0.55214724, 0.35611511,\n",
       "       0.43349754, 0.68852459, 0.50617284, 0.13707572, 0.52914798,\n",
       "       0.41444867, 0.72058824, 0.35714286, 0.79130435, 0.34383954,\n",
       "       0.84545455, 0.3253012 , 0.56470588, 0.21141975, 0.26559715])"
      ]
     },
     "execution_count": 13,
     "metadata": {},
     "output_type": "execute_result"
    }
   ],
   "source": [
    "import numpy as np\n",
    "import matplotlib.pyplot as plt\n",
    "import pandas as pd\n",
    "from math import ceil\n",
    "from math import floor\n",
    "import warnings\n",
    "warnings.filterwarnings('ignore')\n",
    "import time\n",
    "import matplotlib.pyplot as plt\n",
    "\n",
    "def generate(mu,sigma,n):\n",
    "    s = np.random.normal(mu,sigma,n)\n",
    "    count, bins, ignored = plt.hist(s, 30, normed=True)\n",
    "    return s\n",
    "\n",
    "t=10000\n",
    "utilization = 0.9\n",
    "m = 16\n",
    "n=30\n",
    "migrations= -n\n",
    "\n",
    "execution = generate(1,.25,n)\n",
    "execution*=100\n",
    "\n",
    "# plt.hist(execution)\n",
    "# plt.show()\n",
    "execution=execution.astype('int')\n",
    "\n",
    "weights = generate(0.3,0.1,n)\n",
    "# plt.hist(weights)\n",
    "# plt.show()\n",
    "\n",
    "capacity = utilization * m \n",
    "\n",
    "\n",
    "\n",
    "sigmawt =  weights.sum()\n",
    "c1 = sigmawt/capacity\n",
    "\n",
    "\n",
    "weights/=c1\n",
    "period = execution/weights\n",
    "period=period.astype('int')\n",
    "period=period.astype('float')\n",
    "\n",
    "execution=execution.astype('float')\n",
    "weights = execution/period\n",
    "weights"
   ]
  },
  {
   "cell_type": "code",
   "execution_count": 14,
   "metadata": {
    "collapsed": true
   },
   "outputs": [],
   "source": [
    "orginaldf = pd.DataFrame(period,columns=['period'])\n",
    "orginaldf['execution']= pd.DataFrame(execution,columns=['execution'])\n",
    "orginaldf['weights']= pd.DataFrame(weights,columns=['weights'])\n",
    "orginaldf.head()\n",
    "orginaldf.to_csv('dataset16.csv')"
   ]
  },
  {
   "cell_type": "code",
   "execution_count": 4,
   "metadata": {},
   "outputs": [],
   "source": []
  }
 ],
 "metadata": {
  "kernelspec": {
   "display_name": "Python 2",
   "language": "python",
   "name": "python2"
  },
  "language_info": {
   "codemirror_mode": {
    "name": "ipython",
    "version": 2
   },
   "file_extension": ".py",
   "mimetype": "text/x-python",
   "name": "python",
   "nbconvert_exporter": "python",
   "pygments_lexer": "ipython2",
   "version": "2.7.12"
  }
 },
 "nbformat": 4,
 "nbformat_minor": 2
}
